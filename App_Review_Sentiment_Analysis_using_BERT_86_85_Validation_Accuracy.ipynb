{
  "nbformat": 4,
  "nbformat_minor": 0,
  "metadata": {
    "colab": {
      "name": "App Review Sentiment Analysis using BERT - 86.85% Validation Accuracy.ipynb",
      "provenance": [],
      "collapsed_sections": [],
      "mount_file_id": "1f9ZGNLGgUkW28WZZCxsQYnQPZY2Bnl9u",
      "authorship_tag": "ABX9TyN6I3XYB32k6vNPE0E45Sdi",
      "include_colab_link": true
    },
    "kernelspec": {
      "name": "python3",
      "display_name": "Python 3"
    },
    "accelerator": "GPU"
  },
  "cells": [
    {
      "cell_type": "markdown",
      "metadata": {
        "id": "view-in-github",
        "colab_type": "text"
      },
      "source": [
        "<a href=\"https://colab.research.google.com/github/animesharma3/App-Review-Sentiment-Analysis-BERT-Transformers-Pytorch-Hugging-Face-NLP/blob/main/App_Review_Sentiment_Analysis_using_BERT_86_85_Validation_Accuracy.ipynb\" target=\"_parent\"><img src=\"https://colab.research.google.com/assets/colab-badge.svg\" alt=\"Open In Colab\"/></a>"
      ]
    },
    {
      "cell_type": "markdown",
      "metadata": {
        "id": "n4hTN7hA9F1W"
      },
      "source": [
        "## Importing Dependencies"
      ]
    },
    {
      "cell_type": "code",
      "metadata": {
        "colab": {
          "base_uri": "https://localhost:8080/"
        },
        "id": "bftA5P4xyHKv",
        "outputId": "4df64323-73bf-452f-cc4f-bdc6a850a941"
      },
      "source": [
        "!pip install transformers"
      ],
      "execution_count": 1,
      "outputs": [
        {
          "output_type": "stream",
          "text": [
            "Requirement already satisfied: transformers in /usr/local/lib/python3.6/dist-packages (4.3.2)\n",
            "Requirement already satisfied: tqdm>=4.27 in /usr/local/lib/python3.6/dist-packages (from transformers) (4.41.1)\n",
            "Requirement already satisfied: tokenizers<0.11,>=0.10.1 in /usr/local/lib/python3.6/dist-packages (from transformers) (0.10.1)\n",
            "Requirement already satisfied: filelock in /usr/local/lib/python3.6/dist-packages (from transformers) (3.0.12)\n",
            "Requirement already satisfied: numpy>=1.17 in /usr/local/lib/python3.6/dist-packages (from transformers) (1.19.5)\n",
            "Requirement already satisfied: sacremoses in /usr/local/lib/python3.6/dist-packages (from transformers) (0.0.43)\n",
            "Requirement already satisfied: importlib-metadata; python_version < \"3.8\" in /usr/local/lib/python3.6/dist-packages (from transformers) (3.4.0)\n",
            "Requirement already satisfied: requests in /usr/local/lib/python3.6/dist-packages (from transformers) (2.23.0)\n",
            "Requirement already satisfied: regex!=2019.12.17 in /usr/local/lib/python3.6/dist-packages (from transformers) (2019.12.20)\n",
            "Requirement already satisfied: packaging in /usr/local/lib/python3.6/dist-packages (from transformers) (20.9)\n",
            "Requirement already satisfied: dataclasses; python_version < \"3.7\" in /usr/local/lib/python3.6/dist-packages (from transformers) (0.8)\n",
            "Requirement already satisfied: joblib in /usr/local/lib/python3.6/dist-packages (from sacremoses->transformers) (1.0.0)\n",
            "Requirement already satisfied: click in /usr/local/lib/python3.6/dist-packages (from sacremoses->transformers) (7.1.2)\n",
            "Requirement already satisfied: six in /usr/local/lib/python3.6/dist-packages (from sacremoses->transformers) (1.15.0)\n",
            "Requirement already satisfied: typing-extensions>=3.6.4; python_version < \"3.8\" in /usr/local/lib/python3.6/dist-packages (from importlib-metadata; python_version < \"3.8\"->transformers) (3.7.4.3)\n",
            "Requirement already satisfied: zipp>=0.5 in /usr/local/lib/python3.6/dist-packages (from importlib-metadata; python_version < \"3.8\"->transformers) (3.4.0)\n",
            "Requirement already satisfied: certifi>=2017.4.17 in /usr/local/lib/python3.6/dist-packages (from requests->transformers) (2020.12.5)\n",
            "Requirement already satisfied: urllib3!=1.25.0,!=1.25.1,<1.26,>=1.21.1 in /usr/local/lib/python3.6/dist-packages (from requests->transformers) (1.24.3)\n",
            "Requirement already satisfied: chardet<4,>=3.0.2 in /usr/local/lib/python3.6/dist-packages (from requests->transformers) (3.0.4)\n",
            "Requirement already satisfied: idna<3,>=2.5 in /usr/local/lib/python3.6/dist-packages (from requests->transformers) (2.10)\n",
            "Requirement already satisfied: pyparsing>=2.0.2 in /usr/local/lib/python3.6/dist-packages (from packaging->transformers) (2.4.7)\n"
          ],
          "name": "stdout"
        }
      ]
    },
    {
      "cell_type": "code",
      "metadata": {
        "id": "FOtTySow77sm"
      },
      "source": [
        "import numpy as np\r\n",
        "import pandas as pd\r\n",
        "import matplotlib.pyplot as plt\r\n",
        "import seaborn as sns\r\n",
        "from collections import defaultdict\r\n",
        "\r\n",
        "from sklearn.model_selection import train_test_split as tts\r\n",
        "from sklearn.metrics import accuracy_score, f1_score, precision_score, recall_score, roc_auc_score, confusion_matrix\r\n",
        "\r\n",
        "import torch\r\n",
        "import torch.nn as nn\r\n",
        "import torch.optim as optim\r\n",
        "import torch.nn.functional as F\r\n",
        "from torch.utils.data import Dataset, DataLoader\r\n",
        "\r\n",
        "from transformers import BertTokenizer, BertModel, get_linear_schedule_with_warmup, AdamW\r\n",
        "\r\n",
        "import warnings\r\n",
        "warnings.filterwarnings('ignore')"
      ],
      "execution_count": 2,
      "outputs": []
    },
    {
      "cell_type": "code",
      "metadata": {
        "id": "AtGHJ_EJCFOW"
      },
      "source": [
        "device = torch.device('cuda' if torch.cuda.is_available() else 'cpu')\r\n",
        "PRE_TRAINED_MODEL_NAME = 'bert-base-cased'\r\n",
        "BATCH_SIZE = 16\r\n",
        "MAX_LEN = 160\r\n",
        "EPOCHS = 50"
      ],
      "execution_count": 3,
      "outputs": []
    },
    {
      "cell_type": "markdown",
      "metadata": {
        "id": "CC4aWsff9KYp"
      },
      "source": [
        "## Loading and Preprocessing Dataset"
      ]
    },
    {
      "cell_type": "code",
      "metadata": {
        "colab": {
          "base_uri": "https://localhost:8080/"
        },
        "id": "YpO-VChk0jrY",
        "outputId": "07c5c865-693a-4a25-c1c7-3dfd63b033c1"
      },
      "source": [
        "!gdown --id 1S6qMioqPJjyBLpLVz4gmRTnJHnjitnuV\r\n",
        "!gdown --id 1zdmewp7ayS4js4VtrJEHzAheSW-5NBZv"
      ],
      "execution_count": 4,
      "outputs": [
        {
          "output_type": "stream",
          "text": [
            "Downloading...\n",
            "From: https://drive.google.com/uc?id=1S6qMioqPJjyBLpLVz4gmRTnJHnjitnuV\n",
            "To: /content/apps.csv\n",
            "100% 134k/134k [00:00<00:00, 4.28MB/s]\n",
            "Downloading...\n",
            "From: https://drive.google.com/uc?id=1zdmewp7ayS4js4VtrJEHzAheSW-5NBZv\n",
            "To: /content/reviews.csv\n",
            "7.17MB [00:00, 63.0MB/s]\n"
          ],
          "name": "stdout"
        }
      ]
    },
    {
      "cell_type": "code",
      "metadata": {
        "colab": {
          "base_uri": "https://localhost:8080/"
        },
        "id": "Th1ozlcNyOYu",
        "outputId": "4209bfb3-a28c-470f-9549-dbd9131cdc04"
      },
      "source": [
        "df = pd.read_csv('reviews.csv')\r\n",
        "df.iloc[0]"
      ],
      "execution_count": 5,
      "outputs": [
        {
          "output_type": "execute_result",
          "data": {
            "text/plain": [
              "userName                                                    Andrew Thomas\n",
              "userImage               https://lh3.googleusercontent.com/a-/AOh14GiHd...\n",
              "content                 Update: After getting a response from the deve...\n",
              "score                                                                   1\n",
              "thumbsUpCount                                                          21\n",
              "reviewCreatedVersion                                             4.17.0.3\n",
              "at                                                    2020-04-05 22:25:57\n",
              "replyContent            According to our TOS, and the term you have ag...\n",
              "repliedAt                                             2020-04-05 15:10:24\n",
              "sortOrder                                                   most_relevant\n",
              "appId                                                           com.anydo\n",
              "Name: 0, dtype: object"
            ]
          },
          "metadata": {
            "tags": []
          },
          "execution_count": 5
        }
      ]
    },
    {
      "cell_type": "code",
      "metadata": {
        "colab": {
          "base_uri": "https://localhost:8080/",
          "height": 297
        },
        "id": "nN596tHn-tSf",
        "outputId": "2e3403fc-ad9a-4f96-89da-292d096564df"
      },
      "source": [
        "sns.countplot(df['score'])"
      ],
      "execution_count": 6,
      "outputs": [
        {
          "output_type": "execute_result",
          "data": {
            "text/plain": [
              "<matplotlib.axes._subplots.AxesSubplot at 0x7f7d093bcd68>"
            ]
          },
          "metadata": {
            "tags": []
          },
          "execution_count": 6
        },
        {
          "output_type": "display_data",
          "data": {
            "image/png": "[encoded data removed]",
            "text/plain": [
              "<Figure size 432x288 with 1 Axes>"
            ]
          },
          "metadata": {
            "tags": [],
            "needs_background": "light"
          }
        }
      ]
    },
    {
      "cell_type": "code",
      "metadata": {
        "id": "-w7tCPwA_BTt"
      },
      "source": [
        "def preprocess_score(score):\r\n",
        "    if score < 3:\r\n",
        "        score = 0\r\n",
        "    elif score == 3:\r\n",
        "        score = 1\r\n",
        "    else:\r\n",
        "        score = 2\r\n",
        "    return score"
      ],
      "execution_count": 7,
      "outputs": []
    },
    {
      "cell_type": "code",
      "metadata": {
        "colab": {
          "base_uri": "https://localhost:8080/",
          "height": 297
        },
        "id": "B0bdqFVg_Uj_",
        "outputId": "7cf10961-4e7a-40e4-fa96-473e754d7ce0"
      },
      "source": [
        "class_names = ['Negative', 'Neutral', 'Positive']\r\n",
        "df.score = df.score.apply(preprocess_score)\r\n",
        "ax = sns.countplot(df.score)\r\n",
        "plt.xlabel('Review Sentiment')\r\n",
        "ax.set_xticklabels(class_names)"
      ],
      "execution_count": 8,
      "outputs": [
        {
          "output_type": "execute_result",
          "data": {
            "text/plain": [
              "[Text(0, 0, 'Negative'), Text(0, 0, 'Neutral'), Text(0, 0, 'Positive')]"
            ]
          },
          "metadata": {
            "tags": []
          },
          "execution_count": 8
        },
        {
          "output_type": "display_data",
          "data": {
            "image/png": "[encoded data removed]",
            "text/plain": [
              "<Figure size 432x288 with 1 Axes>"
            ]
          },
          "metadata": {
            "tags": [],
            "needs_background": "light"
          }
        }
      ]
    },
    {
      "cell_type": "code",
      "metadata": {
        "id": "O0p8KBhF9ue0"
      },
      "source": [
        "class ReviewsDataset(Dataset):\r\n",
        "    def __init__(self, reviews, targets, tokenizer, max_len):\r\n",
        "        self.reviews = reviews\r\n",
        "        self.targets = targets\r\n",
        "        self.tokenizer = tokenizer\r\n",
        "        self.max_len = max_len\r\n",
        "\r\n",
        "    def __len__(self):\r\n",
        "        return len(self.reviews)\r\n",
        "    \r\n",
        "    def __getitem__(self, i):\r\n",
        "        review = str(self.reviews[i])\r\n",
        "        target = self.targets[i]\r\n",
        "\r\n",
        "        encoding = tokenizer.encode_plus(\r\n",
        "            review,\r\n",
        "            add_special_tokens=True,\r\n",
        "            max_length=self.max_len,\r\n",
        "            truncation=True,\r\n",
        "            return_token_type_ids=False,\r\n",
        "            pad_to_max_length=True,\r\n",
        "            return_attention_mask=True,\r\n",
        "            return_tensors='pt'\r\n",
        "        )\r\n",
        "\r\n",
        "        return {\r\n",
        "            'review': review,\r\n",
        "            'input_ids': encoding['input_ids'].flatten(),\r\n",
        "            'attention_mask': encoding['attention_mask'].flatten(),\r\n",
        "            'target': torch.tensor(target, dtype=torch.long)\r\n",
        "        }"
      ],
      "execution_count": 9,
      "outputs": []
    },
    {
      "cell_type": "code",
      "metadata": {
        "id": "QsZmgo7bCm84"
      },
      "source": [
        "def create_data_loader(\r\n",
        "    df,\r\n",
        "    tokenizer,\r\n",
        "    max_len,\r\n",
        "    batch_size\r\n",
        "):\r\n",
        "    ds = ReviewsDataset(\r\n",
        "        reviews=df['content'].to_numpy(),\r\n",
        "        targets=df['score'].to_numpy(),\r\n",
        "        tokenizer=tokenizer,\r\n",
        "        max_len=max_len\r\n",
        "    )\r\n",
        "\r\n",
        "    return DataLoader(\r\n",
        "        dataset=ds,\r\n",
        "        batch_size=batch_size,\r\n",
        "        num_workers=4\r\n",
        "    )"
      ],
      "execution_count": 10,
      "outputs": []
    },
    {
      "cell_type": "code",
      "metadata": {
        "colab": {
          "base_uri": "https://localhost:8080/"
        },
        "id": "PT-IiZqrFM-C",
        "outputId": "a36b2388-3ec4-465f-c806-8fc5c54e829f"
      },
      "source": [
        "df_train, df_test = tts(\r\n",
        "    df,\r\n",
        "    test_size=0.2,\r\n",
        "    random_state=42,\r\n",
        "    stratify=df.score\r\n",
        ")\r\n",
        "df_val, df_test = tts(\r\n",
        "    df_test,\r\n",
        "    test_size=0.5,\r\n",
        "    random_state=42,\r\n",
        "    stratify=df_test.score\r\n",
        ")\r\n",
        "df_train.shape, df_test.shape, df_val.shape"
      ],
      "execution_count": 11,
      "outputs": [
        {
          "output_type": "execute_result",
          "data": {
            "text/plain": [
              "((12596, 11), (1575, 11), (1575, 11))"
            ]
          },
          "metadata": {
            "tags": []
          },
          "execution_count": 11
        }
      ]
    },
    {
      "cell_type": "code",
      "metadata": {
        "id": "JvlcMI36FCdf"
      },
      "source": [
        "tokenizer = BertTokenizer.from_pretrained(PRE_TRAINED_MODEL_NAME)"
      ],
      "execution_count": 12,
      "outputs": []
    },
    {
      "cell_type": "code",
      "metadata": {
        "id": "RRSNSYEqFd1H"
      },
      "source": [
        "train_data_loader = create_data_loader(\r\n",
        "    df_train, tokenizer, MAX_LEN, BATCH_SIZE\r\n",
        ")\r\n",
        "test_data_loader = create_data_loader(\r\n",
        "    df_test, tokenizer, MAX_LEN, BATCH_SIZE\r\n",
        ")\r\n",
        "val_data_loader = create_data_loader(\r\n",
        "    df_val, tokenizer, MAX_LEN, BATCH_SIZE\r\n",
        ")"
      ],
      "execution_count": 13,
      "outputs": []
    },
    {
      "cell_type": "markdown",
      "metadata": {
        "id": "turgqz4FQ-A8"
      },
      "source": [
        "## Building a Sentiment Classifier"
      ]
    },
    {
      "cell_type": "code",
      "metadata": {
        "id": "RjsUX-2ZGTvw"
      },
      "source": [
        "class SentimentClassifier(nn.Module):\r\n",
        "    def __init__(self, n_classes):\r\n",
        "        super(SentimentClassifier, self).__init__()\r\n",
        "        self.bert_model = BertModel.from_pretrained(PRE_TRAINED_MODEL_NAME)\r\n",
        "        self.drop = nn.Dropout(p=0.3)\r\n",
        "        self.fcl = nn.Linear(self.bert_model.config.hidden_size, n_classes)\r\n",
        "    \r\n",
        "    def forward(self, input_ids, attention_mask):\r\n",
        "        pooled_output = self.bert_model(\r\n",
        "            input_ids=input_ids,\r\n",
        "            attention_mask=attention_mask\r\n",
        "        )[1]\r\n",
        "        output = self.drop(pooled_output)\r\n",
        "        output = self.fcl(output)\r\n",
        "        return output"
      ],
      "execution_count": 14,
      "outputs": []
    },
    {
      "cell_type": "code",
      "metadata": {
        "id": "-er4qkSAmCJA"
      },
      "source": [
        "model = SentimentClassifier(len(class_names))\r\n",
        "model = model.to(device)"
      ],
      "execution_count": 15,
      "outputs": []
    },
    {
      "cell_type": "markdown",
      "metadata": {
        "id": "4loIo-fQnwvP"
      },
      "source": [
        "## Loss, Optimizer and Scheduler"
      ]
    },
    {
      "cell_type": "code",
      "metadata": {
        "id": "87UjTCO2m2Fk"
      },
      "source": [
        "loss_fn = nn.CrossEntropyLoss().to(device)\r\n",
        "\r\n",
        "optimizer = AdamW(model.parameters(), lr=2e-5, correct_bias=False)\r\n",
        "\r\n",
        "total_steps = len(train_data_loader) * EPOCHS\r\n",
        "scheduler = get_linear_schedule_with_warmup(\r\n",
        "  optimizer,\r\n",
        "  num_warmup_steps=0,\r\n",
        "  num_training_steps=total_steps\r\n",
        ")"
      ],
      "execution_count": 16,
      "outputs": []
    },
    {
      "cell_type": "code",
      "metadata": {
        "id": "rRTWmXAn1vOz"
      },
      "source": [
        "def train(\r\n",
        "    model,\r\n",
        "    loss_fn,\r\n",
        "    optimizer,\r\n",
        "    scheduler,\r\n",
        "    device,\r\n",
        "    data_loader,\r\n",
        "    n_examples\r\n",
        "):\r\n",
        "    model = model.train()\r\n",
        "\r\n",
        "    losses = []\r\n",
        "    correct_predictions = 0\r\n",
        "\r\n",
        "    for d in data_loader:\r\n",
        "        input_ids = d['input_ids'].to(device)\r\n",
        "        attention_mask = d['attention_mask'].to(device)\r\n",
        "        targets = d['target'].to(device)\r\n",
        "\r\n",
        "        outputs = model(\r\n",
        "            input_ids=input_ids,\r\n",
        "            attention_mask=attention_mask\r\n",
        "        )\r\n",
        "\r\n",
        "        loss = loss_fn(outputs, targets)\r\n",
        "\r\n",
        "        _, preds = torch.max(outputs, dim=1)\r\n",
        "\r\n",
        "        correct_predictions += torch.sum(preds == targets)\r\n",
        "        losses.append(loss.item())\r\n",
        "\r\n",
        "        loss.backward()\r\n",
        "        nn.utils.clip_grad_norm(model.parameters(), max_norm=1.0)\r\n",
        "        optimizer.step()\r\n",
        "        scheduler.step()\r\n",
        "        optimizer.zero_grad()\r\n",
        "\r\n",
        "    train_acc = correct_predictions.double() / n_examples\r\n",
        "    train_loss = np.mean(losses)\r\n",
        "\r\n",
        "    return train_acc, train_loss"
      ],
      "execution_count": 17,
      "outputs": []
    },
    {
      "cell_type": "code",
      "metadata": {
        "id": "sd-iDTyt4Tz1"
      },
      "source": [
        "def evaluate_model(\r\n",
        "    model,\r\n",
        "    loss_fn,\r\n",
        "    device,\r\n",
        "    data_loader,\r\n",
        "    n_examples\r\n",
        "):\r\n",
        "    model = model.eval()\r\n",
        "\r\n",
        "    losses = []\r\n",
        "    correct_predictions = 0\r\n",
        "\r\n",
        "    with torch.no_grad():\r\n",
        "        for d in data_loader:\r\n",
        "            input_ids = d['input_ids'].to(device)\r\n",
        "            attention_mask = d['attention_mask'].to(device)\r\n",
        "            targets = d['target'].to(device)\r\n",
        "\r\n",
        "            outputs = model(\r\n",
        "                input_ids=input_ids,\r\n",
        "                attention_mask=attention_mask\r\n",
        "            )\r\n",
        "\r\n",
        "            loss = loss_fn(outputs, targets)\r\n",
        "\r\n",
        "            _, preds = torch.max(outputs, dim=1)\r\n",
        "\r\n",
        "            correct_predictions += torch.sum(preds == targets)\r\n",
        "            losses.append(loss.item())\r\n",
        "\r\n",
        "        train_acc = correct_predictions.double() / n_examples\r\n",
        "        train_loss = np.mean(losses)\r\n",
        "\r\n",
        "        return train_acc, train_loss"
      ],
      "execution_count": 20,
      "outputs": []
    },
    {
      "cell_type": "code",
      "metadata": {
        "colab": {
          "base_uri": "https://localhost:8080/"
        },
        "id": "ogbTwc_06wjf",
        "outputId": "67c06226-5a7b-47a9-de20-88f1986cd73e"
      },
      "source": [
        "%%time\r\n",
        "\r\n",
        "history = defaultdict(list)\r\n",
        "best_accuracy = 0\r\n",
        "\r\n",
        "for epoch in range(EPOCHS):\r\n",
        "    print(f'Epoch {epoch+1}/{EPOCHS}')\r\n",
        "    print('-'*10)\r\n",
        "\r\n",
        "    train_acc, train_loss = train(\r\n",
        "        model=model,\r\n",
        "        loss_fn=loss_fn,\r\n",
        "        optimizer=optimizer,\r\n",
        "        scheduler=scheduler,\r\n",
        "        device=device,\r\n",
        "        data_loader=train_data_loader,\r\n",
        "        n_examples=len(df_train)\r\n",
        "    )\r\n",
        "\r\n",
        "    print(f'Train Loss {train_loss} Accuracy {train_acc}')\r\n",
        "\r\n",
        "    val_acc, val_loss = evaluate_model(\r\n",
        "        model=model,\r\n",
        "        loss_fn=loss_fn,\r\n",
        "        device=device,\r\n",
        "        data_loader=val_data_loader,\r\n",
        "        n_examples=len(df_val)\r\n",
        "    )\r\n",
        "\r\n",
        "    print(f'Validation Loss {val_loss} Accuracy {val_acc}')    \r\n",
        "    print()\r\n",
        "\r\n",
        "    history['train_acc'].append(train_acc)\r\n",
        "    history['train_loss'].append(train_loss)\r\n",
        "    history['val_acc'].append(val_acc)\r\n",
        "    history['val_loss'].append(val_loss)\r\n",
        "\r\n",
        "    if val_acc > best_accuracy:\r\n",
        "        torch.save(model.state_dict(), 'best_model_state.bin')\r\n",
        "        best_accuracy = val_acc"
      ],
      "execution_count": 21,
      "outputs": [
        {
          "output_type": "stream",
          "text": [
            "Epoch 1/50\n",
            "----------\n",
            "Train Loss 0.44004955823972897 Accuracy 0.8273261352810416\n",
            "Validation Loss 0.5696879860126611 Accuracy 0.7980952380952381\n",
            "\n",
            "Epoch 2/50\n",
            "----------\n",
            "Train Loss 0.25764840060453814 Accuracy 0.9158463004128296\n",
            "Validation Loss 0.7433040531897785 Accuracy 0.8133333333333334\n",
            "\n",
            "Epoch 3/50\n",
            "----------\n",
            "Train Loss 0.18826219927594018 Accuracy 0.9441886313115275\n",
            "Validation Loss 0.8462312845607297 Accuracy 0.8203174603174603\n",
            "\n",
            "Epoch 4/50\n",
            "----------\n",
            "Train Loss 0.13587140891165295 Accuracy 0.9615751032073675\n",
            "Validation Loss 0.9860748204624873 Accuracy 0.8368253968253968\n",
            "\n",
            "Epoch 5/50\n",
            "----------\n",
            "Train Loss 0.10820257693126108 Accuracy 0.9698316926008257\n",
            "Validation Loss 0.9886129819217722 Accuracy 0.8419047619047619\n",
            "\n",
            "Epoch 6/50\n",
            "----------\n",
            "Train Loss 0.0946686433501223 Accuracy 0.9749126706891077\n",
            "Validation Loss 1.075165366980887 Accuracy 0.8419047619047619\n",
            "\n",
            "Epoch 7/50\n",
            "----------\n",
            "Train Loss 0.08142884613916607 Accuracy 0.9754684026675136\n",
            "Validation Loss 1.0494365615577959 Accuracy 0.8514285714285714\n",
            "\n",
            "Epoch 8/50\n",
            "----------\n",
            "Train Loss 0.071987251425812 Accuracy 0.9784058431248016\n",
            "Validation Loss 0.9632344217953328 Accuracy 0.8596825396825397\n",
            "\n",
            "Epoch 9/50\n",
            "----------\n",
            "Train Loss 0.07245381442615714 Accuracy 0.9790409653858368\n",
            "Validation Loss 1.0009030931478724 Accuracy 0.8596825396825397\n",
            "\n",
            "Epoch 10/50\n",
            "----------\n",
            "Train Loss 0.06362538570344445 Accuracy 0.981422673864719\n",
            "Validation Loss 1.0326245318318605 Accuracy 0.8577777777777778\n",
            "\n",
            "Epoch 11/50\n",
            "----------\n",
            "Train Loss 0.060938072161901766 Accuracy 0.9823753572562719\n",
            "Validation Loss 1.0681186285577808 Accuracy 0.8565079365079366\n",
            "\n",
            "Epoch 12/50\n",
            "----------\n",
            "Train Loss 0.06623245865185584 Accuracy 0.9807875516036837\n",
            "Validation Loss 1.0019088893437362 Accuracy 0.8539682539682539\n",
            "\n",
            "Epoch 13/50\n",
            "----------\n",
            "Train Loss 0.051518960329382295 Accuracy 0.9842807240393776\n",
            "Validation Loss 1.0786150871847187 Accuracy 0.8526984126984127\n",
            "\n",
            "Epoch 14/50\n",
            "----------\n",
            "Train Loss 0.048925305409967465 Accuracy 0.9836456017783424\n",
            "Validation Loss 1.0915953685800577 Accuracy 0.8615873015873016\n",
            "\n",
            "Epoch 15/50\n",
            "----------\n",
            "Train Loss 0.04487422421105496 Accuracy 0.9860273102572246\n",
            "Validation Loss 1.1681636070016528 Accuracy 0.8546031746031746\n",
            "\n",
            "Epoch 16/50\n",
            "----------\n",
            "Train Loss 0.04769711831538886 Accuracy 0.985709749126707\n",
            "Validation Loss 1.1665068830751797 Accuracy 0.8571428571428571\n",
            "\n",
            "Epoch 17/50\n",
            "----------\n",
            "Train Loss 0.03933777934747147 Accuracy 0.9860273102572246\n",
            "Validation Loss 1.171980890541836 Accuracy 0.8539682539682539\n",
            "\n",
            "Epoch 18/50\n",
            "----------\n",
            "Train Loss 0.04430943084312483 Accuracy 0.9855509685614481\n",
            "Validation Loss 1.2353373499617457 Accuracy 0.8546031746031746\n",
            "\n",
            "Epoch 19/50\n",
            "----------\n",
            "Train Loss 0.05098743115796807 Accuracy 0.9837249920609717\n",
            "Validation Loss 1.2051842567861324 Accuracy 0.8539682539682539\n",
            "\n",
            "Epoch 20/50\n",
            "----------\n",
            "Train Loss 0.03760655312719694 Accuracy 0.9869799936487774\n",
            "Validation Loss 1.274206073516417 Accuracy 0.8558730158730159\n",
            "\n",
            "Epoch 21/50\n",
            "----------\n",
            "Train Loss 0.0379450414576485 Accuracy 0.9865830422356304\n",
            "Validation Loss 1.2341791466891976 Accuracy 0.8565079365079366\n",
            "\n",
            "Epoch 22/50\n",
            "----------\n",
            "Train Loss 0.029167670044444094 Accuracy 0.9884090187361068\n",
            "Validation Loss 1.2736271187923103 Accuracy 0.8603174603174604\n",
            "\n",
            "Epoch 23/50\n",
            "----------\n",
            "Train Loss 0.028895835650104264 Accuracy 0.9883296284534773\n",
            "Validation Loss 1.271723721760594 Accuracy 0.8622222222222222\n",
            "\n",
            "Epoch 24/50\n",
            "----------\n",
            "Train Loss 0.03169145819038483 Accuracy 0.9877738964750715\n",
            "Validation Loss 1.2608260973145 Accuracy 0.8552380952380952\n",
            "\n",
            "Epoch 25/50\n",
            "----------\n",
            "Train Loss 0.033412775003146954 Accuracy 0.987297554779295\n",
            "Validation Loss 1.2294481921661176 Accuracy 0.8615873015873016\n",
            "\n",
            "Epoch 26/50\n",
            "----------\n",
            "Train Loss 0.033448580069477714 Accuracy 0.9879326770403303\n",
            "Validation Loss 1.2892773867061815 Accuracy 0.8533333333333333\n",
            "\n",
            "Epoch 27/50\n",
            "----------\n",
            "Train Loss 0.03073667771821715 Accuracy 0.9881708478882185\n",
            "Validation Loss 1.2373666130049308 Accuracy 0.8673015873015874\n",
            "\n",
            "Epoch 28/50\n",
            "----------\n",
            "Train Loss 0.027542400056527323 Accuracy 0.9876151159098127\n",
            "Validation Loss 1.2829642488105684 Accuracy 0.8641269841269841\n",
            "\n",
            "Epoch 29/50\n",
            "----------\n",
            "Train Loss 0.027604800711680103 Accuracy 0.9883296284534773\n",
            "Validation Loss 1.2921648139745965 Accuracy 0.8622222222222222\n",
            "\n",
            "Epoch 30/50\n",
            "----------\n",
            "Train Loss 0.02641670708388507 Accuracy 0.9893617021276596\n",
            "Validation Loss 1.3119057765188975 Accuracy 0.8590476190476191\n",
            "\n",
            "Epoch 31/50\n",
            "----------\n",
            "Train Loss 0.028103350108934593 Accuracy 0.989044140997142\n",
            "Validation Loss 1.3522102048679303 Accuracy 0.8514285714285714\n",
            "\n",
            "Epoch 32/50\n",
            "----------\n",
            "Train Loss 0.029521025851570508 Accuracy 0.9878532867577009\n",
            "Validation Loss 1.3076981557934058 Accuracy 0.8558730158730159\n",
            "\n",
            "Epoch 33/50\n",
            "----------\n",
            "Train Loss 0.02474431521786155 Accuracy 0.9901556049539537\n",
            "Validation Loss 1.2909958010575315 Accuracy 0.8634920634920635\n",
            "\n",
            "Epoch 34/50\n",
            "----------\n",
            "Train Loss 0.023786324040430618 Accuracy 0.989044140997142\n",
            "Validation Loss 1.2695003476485844 Accuracy 0.8698412698412699\n",
            "\n",
            "Epoch 35/50\n",
            "----------\n",
            "Train Loss 0.022723699434849837 Accuracy 0.9892823118450302\n",
            "Validation Loss 1.2912216893045747 Accuracy 0.8634920634920635\n",
            "\n",
            "Epoch 36/50\n",
            "----------\n",
            "Train Loss 0.02481497854130235 Accuracy 0.9892029215624007\n",
            "Validation Loss 1.268111013362733 Accuracy 0.8634920634920635\n",
            "\n",
            "Epoch 37/50\n",
            "----------\n",
            "Train Loss 0.023214267807731958 Accuracy 0.9889647507145126\n",
            "Validation Loss 1.2848827811160688 Accuracy 0.866031746031746\n",
            "\n",
            "Epoch 38/50\n",
            "----------\n",
            "Train Loss 0.02249213132249171 Accuracy 0.9892029215624007\n",
            "Validation Loss 1.338312530335444 Accuracy 0.8615873015873016\n",
            "\n",
            "Epoch 39/50\n",
            "----------\n",
            "Train Loss 0.023359578929367315 Accuracy 0.9898380438234361\n",
            "Validation Loss 1.2911378433861198 Accuracy 0.8628571428571429\n",
            "\n",
            "Epoch 40/50\n",
            "----------\n",
            "Train Loss 0.02027170857285095 Accuracy 0.9898380438234361\n",
            "Validation Loss 1.3312293575038554 Accuracy 0.8641269841269841\n",
            "\n",
            "Epoch 41/50\n",
            "----------\n",
            "Train Loss 0.02215685735779567 Accuracy 0.9895998729755479\n",
            "Validation Loss 1.3422341616218123 Accuracy 0.8641269841269841\n",
            "\n",
            "Epoch 42/50\n",
            "----------\n",
            "Train Loss 0.02089899089495065 Accuracy 0.9903937758018418\n",
            "Validation Loss 1.3508486843115908 Accuracy 0.8634920634920635\n",
            "\n",
            "Epoch 43/50\n",
            "----------\n",
            "Train Loss 0.021632744927143538 Accuracy 0.9899968243886949\n",
            "Validation Loss 1.3252983840565036 Accuracy 0.8666666666666667\n",
            "\n",
            "Epoch 44/50\n",
            "----------\n",
            "Train Loss 0.020255117004528887 Accuracy 0.9903143855192125\n",
            "Validation Loss 1.3394314385827462 Accuracy 0.8634920634920635\n",
            "\n",
            "Epoch 45/50\n",
            "----------\n",
            "Train Loss 0.020140485815131264 Accuracy 0.9898380438234361\n",
            "Validation Loss 1.3440254865515335 Accuracy 0.8641269841269841\n",
            "\n",
            "Epoch 46/50\n",
            "----------\n",
            "Train Loss 0.020487666734225474 Accuracy 0.9903143855192125\n",
            "Validation Loss 1.3429679129381435 Accuracy 0.8647619047619047\n",
            "\n",
            "Epoch 47/50\n",
            "----------\n",
            "Train Loss 0.020225764096185136 Accuracy 0.989441092410289\n",
            "Validation Loss 1.3349887286069428 Accuracy 0.8653968253968254\n",
            "\n",
            "Epoch 48/50\n",
            "----------\n",
            "Train Loss 0.0205196474425317 Accuracy 0.9901556049539537\n",
            "Validation Loss 1.3363786469291257 Accuracy 0.8653968253968254\n",
            "\n",
            "Epoch 49/50\n",
            "----------\n",
            "Train Loss 0.01903069286346541 Accuracy 0.9911082883455066\n",
            "Validation Loss 1.3388751761666562 Accuracy 0.8641269841269841\n",
            "\n",
            "Epoch 50/50\n",
            "----------\n",
            "Train Loss 0.0200635286497105 Accuracy 0.9900762146713242\n",
            "Validation Loss 1.3388751761666562 Accuracy 0.8641269841269841\n",
            "\n",
            "CPU times: user 2h 56min 44s, sys: 2h 21min 45s, total: 5h 18min 29s\n",
            "Wall time: 5h 20min 24s\n"
          ],
          "name": "stdout"
        }
      ]
    },
    {
      "cell_type": "code",
      "metadata": {
        "colab": {
          "base_uri": "https://localhost:8080/"
        },
        "id": "VpJXAeRC9KYc",
        "outputId": "947c852a-5c03-4631-beed-f13f0dc38a4c"
      },
      "source": [
        "test_acc, _ = evaluate_model(\r\n",
        "    model,\r\n",
        "    loss_fn,\r\n",
        "    device,\r\n",
        "    test_data_loader,\r\n",
        "    len(df_test)\r\n",
        ")\r\n",
        "test_acc.item()"
      ],
      "execution_count": 22,
      "outputs": [
        {
          "output_type": "execute_result",
          "data": {
            "text/plain": [
              "0.8685714285714285"
            ]
          },
          "metadata": {
            "tags": []
          },
          "execution_count": 22
        }
      ]
    },
    {
      "cell_type": "code",
      "metadata": {
        "colab": {
          "base_uri": "https://localhost:8080/",
          "height": 476
        },
        "id": "yaaZlbYRLo19",
        "outputId": "e97c6bf8-86aa-4208-804d-89511c9cb9d9"
      },
      "source": [
        "plt.figure(figsize=(10, 7))\r\n",
        "plt.plot(history['train_acc'], label='train accuracy')\r\n",
        "plt.plot(history['val_acc'], label='validation accuracy')\r\n",
        "\r\n",
        "plt.title('Training history')\r\n",
        "plt.ylabel('Accuracy')\r\n",
        "plt.xlabel('Epoch')\r\n",
        "plt.legend()\r\n",
        "plt.ylim([0, 1])"
      ],
      "execution_count": 23,
      "outputs": [
        {
          "output_type": "execute_result",
          "data": {
            "text/plain": [
              "(0.0, 1.0)"
            ]
          },
          "metadata": {
            "tags": []
          },
          "execution_count": 23
        },
        {
          "output_type": "display_data",
          "data": {
            "image/png": "[encoded data removed]",
            "text/plain": [
              "<Figure size 720x504 with 1 Axes>"
            ]
          },
          "metadata": {
            "tags": [],
            "needs_background": "light"
          }
        }
      ]
    },
    {
      "cell_type": "code",
      "metadata": {
        "id": "YJLnoxBlRRiu"
      },
      "source": [
        "def get_predictions(\r\n",
        "    model, data_loader\r\n",
        "):\r\n",
        "    model = model.eval()\r\n",
        "\r\n",
        "    reviews = []\r\n",
        "    predictions = []\r\n",
        "    predictions_probs = []\r\n",
        "    real_values = []\r\n",
        "\r\n",
        "    with torch.no_grad():\r\n",
        "        for d in data_loader:\r\n",
        "            review = d['review']\r\n",
        "            input_ids = d['input_ids'].to(device)\r\n",
        "            attention_masks = d['attention_mask'].to(device)\r\n",
        "            targets = d['target'].to(device)\r\n",
        "\r\n",
        "            outputs = model(\r\n",
        "                input_ids=input_ids,\r\n",
        "                attention_mask=attention_masks\r\n",
        "            )\r\n",
        "\r\n",
        "            _, preds = torch.max(outputs, dim=1)\r\n",
        "\r\n",
        "            probs = torch.nn.functional.softmax(outputs, dim=1)\r\n",
        "\r\n",
        "            reviews.extend(review)\r\n",
        "            predictions.extend(preds)\r\n",
        "            predictions_probs.extend(probs)\r\n",
        "            real_values.extend(targets)\r\n",
        "    predictions = torch.stack(predictions).cpu()\r\n",
        "    predictions_probs = torch.stack(predictions_probs).cpu()\r\n",
        "    real_values = torch.stack(real_values).cpu()\r\n",
        "    return reviews, predictions, predictions_probs, real_values"
      ],
      "execution_count": 27,
      "outputs": []
    },
    {
      "cell_type": "code",
      "metadata": {
        "id": "jpYBQW4ARzNo"
      },
      "source": [
        "y_reviews, y_pred, y_pred_probs, y_test = get_predictions(\r\n",
        "  model,\r\n",
        "  test_data_loader\r\n",
        ")"
      ],
      "execution_count": 28,
      "outputs": []
    },
    {
      "cell_type": "code",
      "metadata": {
        "colab": {
          "base_uri": "https://localhost:8080/",
          "height": 283
        },
        "id": "VIzz2CWsR6Rs",
        "outputId": "349a35e1-0f5b-4f64-9929-20c487655f8e"
      },
      "source": [
        "sns.heatmap(confusion_matrix(y_test, y_pred), annot=True, cmap='RdYlGn_r', annot_kws={'size': 16})"
      ],
      "execution_count": 39,
      "outputs": [
        {
          "output_type": "execute_result",
          "data": {
            "text/plain": [
              "<matplotlib.axes._subplots.AxesSubplot at 0x7f7d063ab860>"
            ]
          },
          "metadata": {
            "tags": []
          },
          "execution_count": 39
        },
        {
          "output_type": "display_data",
          "data": {
            "image/png": "[encoded data removed]",
            "text/plain": [
              "<Figure size 432x288 with 2 Axes>"
            ]
          },
          "metadata": {
            "tags": [],
            "needs_background": "light"
          }
        }
      ]
    },
    {
      "cell_type": "code",
      "metadata": {
        "id": "vcDy36ozSKGj"
      },
      "source": [
        ""
      ],
      "execution_count": null,
      "outputs": []
    }
  ]
}